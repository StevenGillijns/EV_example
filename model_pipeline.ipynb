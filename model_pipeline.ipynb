{
 "cells": [
  {
   "cell_type": "code",
   "execution_count": 1,
   "id": "74a0297b-3725-4e59-bd26-0eb357b22dce",
   "metadata": {
    "execution": {
     "iopub.execute_input": "2022-01-25T15:34:46.691203Z",
     "iopub.status.busy": "2022-01-25T15:34:46.678249Z",
     "iopub.status.idle": "2022-01-25T15:34:47.499200Z",
     "shell.execute_reply": "2022-01-25T15:34:47.498200Z"
    }
   },
   "outputs": [],
   "source": [
    "import os\n",
    "import sys\n",
    "import runpy\n",
    "import datetime\n",
    "import plotly.express as px"
   ]
  },
  {
   "cell_type": "markdown",
   "id": "b80d65e5-17f6-411c-b703-ba4c278e4ee5",
   "metadata": {},
   "source": [
    "## Initialize the System Architect API"
   ]
  },
  {
   "cell_type": "code",
   "execution_count": 2,
   "id": "d9f2aaf3-23e8-41bb-875e-14ec4648f581",
   "metadata": {
    "execution": {
     "iopub.execute_input": "2022-01-25T15:34:47.503196Z",
     "iopub.status.busy": "2022-01-25T15:34:47.502197Z",
     "iopub.status.idle": "2022-01-25T15:34:47.506197Z",
     "shell.execute_reply": "2022-01-25T15:34:47.505199Z"
    }
   },
   "outputs": [],
   "source": [
    "script_path = r\"C:\\Users\\ms9byj\\Data\\Rivian_use_case\\EV_example\"\n",
    "sysarch_path = r\"C:\\Program Files\\Simcenter\\2021.2\\System Architect\"\n",
    "\n",
    "project_name = 'Electric_Vehicle_Project'\n",
    "study_name = 'COMFORT_STUDY'\n",
    "run_name = 'ComfortRun_M1_B1'"
   ]
  },
  {
   "cell_type": "code",
   "execution_count": 3,
   "id": "dba9b73a-945e-4572-bb1d-434d2b864c59",
   "metadata": {
    "execution": {
     "iopub.execute_input": "2022-01-25T15:34:47.511198Z",
     "iopub.status.busy": "2022-01-25T15:34:47.510235Z",
     "iopub.status.idle": "2022-01-25T15:35:02.608216Z",
     "shell.execute_reply": "2022-01-25T15:35:02.609216Z"
    }
   },
   "outputs": [
    {
     "name": "stdout",
     "output_type": "stream",
     "text": [
      "Simcenter System Architect API module is imported\n",
      "Current directory is C:\\DATA\\PROJECTS\\EV_example\n",
      "Type help('sysarch_api') to see a list of Simcenter System Architect API functions\n"
     ]
    }
   ],
   "source": [
    "#os.environ[\"SC_SAR\"] = sysarch_path\n",
    "sysarch_win64 = sysarch_path + r\"\\win64\"\n",
    "sys.path.append(sysarch_win64)\n",
    "startup_py = sysarch_path + r\"\\scripting\\python\\startup.py\"\n",
    "r1 = runpy.run_path(path_name=startup_py)\n",
    "from sysarch_api import *\n",
    "sa_api = Api()\n",
    "sa_api.initialize()"
   ]
  },
  {
   "cell_type": "markdown",
   "id": "7ed73f73-d88e-4748-935d-e9ddaf3bd2a1",
   "metadata": {},
   "source": [
    "## Do the simulation and store the results"
   ]
  },
  {
   "cell_type": "code",
   "execution_count": 4,
   "id": "c5b5674d-b3c1-42b4-bbb3-f81dc6dce731",
   "metadata": {
    "execution": {
     "iopub.execute_input": "2022-01-25T15:35:02.613216Z",
     "iopub.status.busy": "2022-01-25T15:35:02.612219Z",
     "iopub.status.idle": "2022-01-25T15:36:06.306038Z",
     "shell.execute_reply": "2022-01-25T15:36:06.305038Z"
    }
   },
   "outputs": [],
   "source": [
    "# Get and simulate the run\n",
    "project = sa_api.getProject(project_name)\n",
    "study = project.getStudy(study_name)\n",
    "run = study.getRun(run_name)\n",
    "run.simulate()"
   ]
  },
  {
   "cell_type": "code",
   "execution_count": 5,
   "id": "e3d1b9f1-5660-4e97-9d18-7812e4a03b60",
   "metadata": {
    "execution": {
     "iopub.execute_input": "2022-01-25T15:36:06.315038Z",
     "iopub.status.busy": "2022-01-25T15:36:06.314038Z",
     "iopub.status.idle": "2022-01-25T15:36:06.323037Z",
     "shell.execute_reply": "2022-01-25T15:36:06.323037Z"
    }
   },
   "outputs": [],
   "source": [
    "# Get simulation results\n",
    "soc_var = run.getVariable('Battery_SOC')\n",
    "soc_res = study.getVariableValues(soc_var)"
   ]
  },
  {
   "cell_type": "markdown",
   "id": "319cd24a-1440-4ed2-aff9-bf521b90a75b",
   "metadata": {},
   "source": [
    "## Plot and save the result"
   ]
  },
  {
   "cell_type": "code",
   "execution_count": 6,
   "id": "96329aa8-910b-4f0a-9140-d7d35af36403",
   "metadata": {
    "execution": {
     "iopub.execute_input": "2022-01-25T15:36:06.331039Z",
     "iopub.status.busy": "2022-01-25T15:36:06.330035Z",
     "iopub.status.idle": "2022-01-25T15:36:09.765500Z",
     "shell.execute_reply": "2022-01-25T15:36:09.766497Z"
    }
   },
   "outputs": [],
   "source": [
    "# Plotting the results\n",
    "title_str=\"Step  (\"+str(datetime.datetime.now())+\")\"\n",
    "fig = px.line(x=soc_res.getTimeSamplings(), y=soc_res.getValues(), title=title_str, labels={'x':'Time [s]', 'y':'SOC [%]'}) \n",
    "\n",
    "# Save as html\n",
    "# if os.path.exists(\"figure.html\"):              \n",
    "#     os.remove(\"figure.html\")\n",
    "# fig.write_html(\"figure.html\")\n",
    "              \n",
    "# Save as png    \n",
    "if os.path.exists(\"plot.png\"):\n",
    "    os.remove(\"plot.png\")\n",
    "fig.write_image(\"plot.png\")"
   ]
  },
  {
   "cell_type": "code",
   "execution_count": null,
   "id": "5bb3d1b7-19a7-4abf-844d-988677e530ef",
   "metadata": {},
   "outputs": [],
   "source": []
  }
 ],
 "metadata": {
  "kernelspec": {
   "display_name": "Python 3 (ipykernel)",
   "language": "python",
   "name": "python3"
  },
  "language_info": {
   "codemirror_mode": {
    "name": "ipython",
    "version": 3
   },
   "file_extension": ".py",
   "mimetype": "text/x-python",
   "name": "python",
   "nbconvert_exporter": "python",
   "pygments_lexer": "ipython3",
   "version": "3.8.8"
  }
 },
 "nbformat": 4,
 "nbformat_minor": 5
}
